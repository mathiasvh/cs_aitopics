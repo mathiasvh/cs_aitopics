{
 "cells": [
  {
   "cell_type": "markdown",
   "metadata": {},
   "source": [
    "# Data exploration and transformation"
   ]
  },
  {
   "cell_type": "code",
   "execution_count": 1,
   "metadata": {},
   "outputs": [],
   "source": [
    "import pandas as pd\n",
    "pd.set_option('display.max_columns', 500)\n",
    "pd.set_option('display.float_format', lambda x: '%.3f' % x)\n",
    "import numpy as np\n",
    "import matplotlib.pyplot as plt\n",
    "from sklearn.metrics.regression import r2_score, mean_squared_error, mean_absolute_error\n",
    "from math import sqrt"
   ]
  },
  {
   "cell_type": "code",
   "execution_count": 2,
   "metadata": {},
   "outputs": [
    {
     "data": {
      "text/html": [
       "<div>\n",
       "<style scoped>\n",
       "    .dataframe tbody tr th:only-of-type {\n",
       "        vertical-align: middle;\n",
       "    }\n",
       "\n",
       "    .dataframe tbody tr th {\n",
       "        vertical-align: top;\n",
       "    }\n",
       "\n",
       "    .dataframe thead th {\n",
       "        text-align: right;\n",
       "    }\n",
       "</style>\n",
       "<table border=\"1\" class=\"dataframe\">\n",
       "  <thead>\n",
       "    <tr style=\"text-align: right;\">\n",
       "      <th></th>\n",
       "      <th>affairs</th>\n",
       "      <th>age</th>\n",
       "      <th>yearsmarried</th>\n",
       "      <th>religiousness</th>\n",
       "      <th>education</th>\n",
       "      <th>occupation</th>\n",
       "      <th>rating</th>\n",
       "    </tr>\n",
       "  </thead>\n",
       "  <tbody>\n",
       "    <tr>\n",
       "      <th>0</th>\n",
       "      <td>0</td>\n",
       "      <td>37.000</td>\n",
       "      <td>10.000</td>\n",
       "      <td>3</td>\n",
       "      <td>18</td>\n",
       "      <td>7</td>\n",
       "      <td>4</td>\n",
       "    </tr>\n",
       "    <tr>\n",
       "      <th>1</th>\n",
       "      <td>0</td>\n",
       "      <td>27.000</td>\n",
       "      <td>4.000</td>\n",
       "      <td>4</td>\n",
       "      <td>14</td>\n",
       "      <td>6</td>\n",
       "      <td>4</td>\n",
       "    </tr>\n",
       "    <tr>\n",
       "      <th>2</th>\n",
       "      <td>0</td>\n",
       "      <td>32.000</td>\n",
       "      <td>15.000</td>\n",
       "      <td>1</td>\n",
       "      <td>12</td>\n",
       "      <td>1</td>\n",
       "      <td>4</td>\n",
       "    </tr>\n",
       "    <tr>\n",
       "      <th>3</th>\n",
       "      <td>0</td>\n",
       "      <td>57.000</td>\n",
       "      <td>15.000</td>\n",
       "      <td>5</td>\n",
       "      <td>18</td>\n",
       "      <td>6</td>\n",
       "      <td>5</td>\n",
       "    </tr>\n",
       "    <tr>\n",
       "      <th>4</th>\n",
       "      <td>0</td>\n",
       "      <td>22.000</td>\n",
       "      <td>0.750</td>\n",
       "      <td>2</td>\n",
       "      <td>17</td>\n",
       "      <td>6</td>\n",
       "      <td>3</td>\n",
       "    </tr>\n",
       "  </tbody>\n",
       "</table>\n",
       "</div>"
      ],
      "text/plain": [
       "   affairs    age  yearsmarried  religiousness  education  occupation  rating\n",
       "0        0 37.000        10.000              3         18           7       4\n",
       "1        0 27.000         4.000              4         14           6       4\n",
       "2        0 32.000        15.000              1         12           1       4\n",
       "3        0 57.000        15.000              5         18           6       5\n",
       "4        0 22.000         0.750              2         17           6       3"
      ]
     },
     "metadata": {},
     "output_type": "display_data"
    },
    {
     "name": "stdout",
     "output_type": "stream",
     "text": [
      "affairs            int64\n",
      "age              float64\n",
      "yearsmarried     float64\n",
      "religiousness      int64\n",
      "education          int64\n",
      "occupation         int64\n",
      "rating             int64\n",
      "dtype: object\n",
      "shape: (601, 7)\n"
     ]
    }
   ],
   "source": [
    "data_file = \"Affairs.csv\"\n",
    "\n",
    "df = pd.read_csv(data_file, delimiter=',', \n",
    "                 usecols=['affairs','gender','age','yearsmarried','children',\n",
    "                          'religiousness','education','occupation','rating'],\n",
    "                 converters={'children': lambda s: True if s == \"yes\" else False})\n",
    "df = df.drop(columns=['gender','children'])\n",
    "\n",
    "display(df.head())\n",
    "print(df.dtypes)\n",
    "print(\"shape: \" + str(df.shape))"
   ]
  },
  {
   "cell_type": "markdown",
   "metadata": {},
   "source": [
    "## 1.1) Look for outliers"
   ]
  },
  {
   "cell_type": "code",
   "execution_count": 3,
   "metadata": {},
   "outputs": [
    {
     "name": "stdout",
     "output_type": "stream",
     "text": [
      "Index(['age', 'yearsmarried', 'religiousness', 'education', 'occupation',\n",
      "       'rating'],\n",
      "      dtype='object')\n"
     ]
    }
   ],
   "source": [
    "numerical_features = df.select_dtypes(exclude = [\"object\",\"bool\"]).columns\n",
    "numerical_features = numerical_features.drop(\"affairs\")\n",
    "print(numerical_features)"
   ]
  },
  {
   "cell_type": "code",
   "execution_count": 4,
   "metadata": {},
   "outputs": [
    {
     "data": {
      "image/png": "[encoded data removed]",
      "text/plain": [
       "<Figure size 432x288 with 2 Axes>"
      ]
     },
     "metadata": {
      "needs_background": "light"
     },
     "output_type": "display_data"
    },
    {
     "data": {
      "image/png": "[encoded data removed]",
      "text/plain": [
       "<Figure size 432x288 with 2 Axes>"
      ]
     },
     "metadata": {
      "needs_background": "light"
     },
     "output_type": "display_data"
    },
    {
     "data": {
      "image/png": "[encoded data removed]",
      "text/plain": [
       "<Figure size 432x288 with 2 Axes>"
      ]
     },
     "metadata": {
      "needs_background": "light"
     },
     "output_type": "display_data"
    },
    {
     "data": {
      "image/png": "[encoded data removed]",
      "text/plain": [
       "<Figure size 432x288 with 2 Axes>"
      ]
     },
     "metadata": {
      "needs_background": "light"
     },
     "output_type": "display_data"
    },
    {
     "data": {
      "image/png": "[encoded data removed]",
      "text/plain": [
       "<Figure size 432x288 with 2 Axes>"
      ]
     },
     "metadata": {
      "needs_background": "light"
     },
     "output_type": "display_data"
    },
    {
     "data": {
      "image/png": "[encoded data removed]",
      "text/plain": [
       "<Figure size 432x288 with 2 Axes>"
      ]
     },
     "metadata": {
      "needs_background": "light"
     },
     "output_type": "display_data"
    }
   ],
   "source": [
    "for c in numerical_features:\n",
    "    plt.subplot(1,2,1)\n",
    "    plt.scatter(df.loc[:,c], df.affairs, c = \"blue\", marker = \"s\")\n",
    "    plt.title(\"Looking for outliers - \" + c)\n",
    "    plt.xlabel(c)\n",
    "    plt.ylabel(\"Affairs\")\n",
    "    \n",
    "    plt.subplot(1,2,2)\n",
    "    plt.title(\"Boxplot for \" + c)\n",
    "    plt.boxplot(df.loc[:,c])\n",
    "    plt.show()"
   ]
  },
  {
   "cell_type": "code",
   "execution_count": 5,
   "metadata": {},
   "outputs": [
    {
     "data": {
      "text/plain": [
       "[17.5, 22.0, 27.0, 32.0, 37.0, 42.0, 47.0, 52.0, 57.0]"
      ]
     },
     "execution_count": 5,
     "metadata": {},
     "output_type": "execute_result"
    }
   ],
   "source": [
    "# Many numerical values actually indicate a range in which the original value is eg. 22.0 = 20-24\n",
    "sorted(df.age.unique())"
   ]
  },
  {
   "cell_type": "markdown",
   "metadata": {},
   "source": [
    "Create new features:"
   ]
  },
  {
   "cell_type": "code",
   "execution_count": 6,
   "metadata": {},
   "outputs": [],
   "source": [
    "df[\"marriageScore\"] = df[\"yearsmarried\"] * df[\"rating\"]\n",
    "df[\"experienceScore\"] = df[\"age\"] * df[\"education\"] * df[\"occupation\"]"
   ]
  },
  {
   "cell_type": "markdown",
   "metadata": {},
   "source": [
    "Find most important features relative to target"
   ]
  },
  {
   "cell_type": "code",
   "execution_count": 7,
   "metadata": {},
   "outputs": [
    {
     "name": "stdout",
     "output_type": "stream",
     "text": [
      "affairs            1.000\n",
      "yearsmarried       0.187\n",
      "age                0.095\n",
      "experienceScore    0.076\n",
      "occupation         0.050\n",
      "marriageScore      0.037\n",
      "education         -0.002\n",
      "religiousness     -0.145\n",
      "rating            -0.280\n",
      "Name: affairs, dtype: float64\n"
     ]
    }
   ],
   "source": [
    "corr = df.corr()\n",
    "corr.sort_values([\"affairs\"], ascending = False, inplace = True)\n",
    "print(corr.affairs)"
   ]
  },
  {
   "cell_type": "markdown",
   "metadata": {},
   "source": [
    "Multiply polynomials top scoring existing features"
   ]
  },
  {
   "cell_type": "code",
   "execution_count": 8,
   "metadata": {},
   "outputs": [],
   "source": [
    "df[\"yearsmarried-2\"] = df[\"yearsmarried\"] ** 2\n",
    "df[\"yearsmarried-3\"] = df[\"yearsmarried\"] ** 3\n",
    "df[\"yearsmarried-sq\"] = np.sqrt(df[\"yearsmarried\"])\n",
    "\n",
    "df[\"age-2\"] = df[\"age\"] ** 2\n",
    "df[\"age-3\"] = df[\"age\"] ** 3\n",
    "df[\"age-sq\"] = np.sqrt(df[\"age\"])\n",
    "\n",
    "df[\"experienceScore-2\"] = df[\"experienceScore\"] ** 2\n",
    "df[\"experienceScore-3\"] = df[\"experienceScore\"] ** 3\n",
    "df[\"experienceScore-sq\"] = np.sqrt(df[\"experienceScore\"])\n",
    "\n",
    "new_features = [\"yearsmarried-2\",\"yearsmarried-3\",\"yearsmarried-sq\",\n",
    "                \"age-2\",\"age-3\",\"age-sq\",\n",
    "                \"experienceScore-2\",\"experienceScore-3\",\"experienceScore-sq\"]"
   ]
  },
  {
   "cell_type": "markdown",
   "metadata": {},
   "source": [
    "Are there NA values in the numerical features?"
   ]
  },
  {
   "cell_type": "code",
   "execution_count": 9,
   "metadata": {},
   "outputs": [
    {
     "name": "stdout",
     "output_type": "stream",
     "text": [
      "NAs for numerical features in df : 0\n"
     ]
    }
   ],
   "source": [
    "print(\"NAs for numerical features in df : \" + str(df[numerical_features].isnull().values.sum()))"
   ]
  },
  {
   "cell_type": "markdown",
   "metadata": {},
   "source": [
    "Log transform of the skewed numerical features to lessen impact of outliers <br />\n",
    "Inspired by Alexandru Papiu's script : https://www.kaggle.com/apapiu/house-prices-advanced-regression-techniques/regularized-linear-models <br />\n",
    "As a general rule of thumb, a skewness with an absolute value > 0.5 is considered at least moderately skewed"
   ]
  },
  {
   "cell_type": "code",
   "execution_count": 10,
   "metadata": {},
   "outputs": [],
   "source": [
    "from scipy.stats import skew\n",
    "\n",
    "#skewness = df.apply(lambda x: skew(x))\n",
    "#skewness = skewness[abs(skewness) > 0.5]\n",
    "#print(str(skewness.shape[0]) + \" skewed numerical features to log transform\")\n",
    "#skewed_features = skewness.index\n",
    "#print(skewed_features)\n",
    "#for sk_f in skewed_features:\n",
    "#    df[sk_f] = np.log1p(df[sk_f])"
   ]
  },
  {
   "cell_type": "code",
   "execution_count": 11,
   "metadata": {
    "scrolled": true
   },
   "outputs": [
    {
     "name": "stdout",
     "output_type": "stream",
     "text": [
      "Index(['age', 'yearsmarried', 'religiousness', 'education', 'occupation',\n",
      "       'rating', 'marriageScore', 'experienceScore', 'yearsmarried-2',\n",
      "       'yearsmarried-3', 'yearsmarried-sq', 'age-2', 'age-3', 'age-sq',\n",
      "       'experienceScore-2', 'experienceScore-3', 'experienceScore-sq'],\n",
      "      dtype='object')\n"
     ]
    }
   ],
   "source": [
    "numerical_features = df.select_dtypes(exclude = [\"object\",\"bool\"]).columns\n",
    "numerical_features = numerical_features.drop(\"affairs\")\n",
    "print(numerical_features)"
   ]
  },
  {
   "cell_type": "markdown",
   "metadata": {},
   "source": [
    "# Model"
   ]
  },
  {
   "cell_type": "code",
   "execution_count": 12,
   "metadata": {},
   "outputs": [
    {
     "name": "stdout",
     "output_type": "stream",
     "text": [
      "Index(['age', 'yearsmarried', 'religiousness', 'education', 'occupation',\n",
      "       'rating', 'marriageScore', 'experienceScore', 'yearsmarried-2',\n",
      "       'yearsmarried-3', 'yearsmarried-sq', 'age-2', 'age-3', 'age-sq',\n",
      "       'experienceScore-2', 'experienceScore-3', 'experienceScore-sq'],\n",
      "      dtype='object')\n",
      "X_train : (300, 17)\n",
      "X_test : (301, 17)\n",
      "y_train : (300,)\n",
      "y_test : (301,)\n"
     ]
    }
   ],
   "source": [
    "from sklearn.model_selection import train_test_split\n",
    "\n",
    "df_num = df[numerical_features]\n",
    "print(df_num.columns)\n",
    "y = df.affairs\n",
    "\n",
    "X_train, X_test, y_train, y_test = train_test_split(df_num, y, test_size = 0.5, random_state = 0)\n",
    "X_train_base, X_test_base, y_train, y_test = train_test_split(df_num.drop(new_features + [\"marriageScore\",\"experienceScore\"], axis=1), y, test_size = 0.5, random_state = 0)\n",
    "print(\"X_train : \" + str(X_train.shape))\n",
    "print(\"X_test : \" + str(X_test.shape))\n",
    "print(\"y_train : \" + str(y_train.shape))\n",
    "print(\"y_test : \" + str(y_test.shape))"
   ]
  },
  {
   "cell_type": "code",
   "execution_count": 13,
   "metadata": {},
   "outputs": [
    {
     "name": "stderr",
     "output_type": "stream",
     "text": [
      "C:\\Users\\Mathias\\Anaconda3\\lib\\site-packages\\sklearn\\preprocessing\\data.py:617: DataConversionWarning: Data with input dtype int64, float64 were all converted to float64 by StandardScaler.\n",
      "  return self.partial_fit(X, y)\n",
      "C:\\Users\\Mathias\\Anaconda3\\lib\\site-packages\\sklearn\\base.py:462: DataConversionWarning: Data with input dtype int64, float64 were all converted to float64 by StandardScaler.\n",
      "  return self.fit(X, **fit_params).transform(X)\n",
      "C:\\Users\\Mathias\\Anaconda3\\lib\\site-packages\\ipykernel\\__main__.py:5: DataConversionWarning: Data with input dtype int64, float64 were all converted to float64 by StandardScaler.\n"
     ]
    }
   ],
   "source": [
    "from sklearn.preprocessing import StandardScaler\n",
    "stdScaler = StandardScaler()\n",
    "\n",
    "X_train = stdScaler.fit_transform(X_train)\n",
    "X_test = stdScaler.transform(X_test)"
   ]
  },
  {
   "cell_type": "code",
   "execution_count": 14,
   "metadata": {},
   "outputs": [],
   "source": [
    "# Define error measure for official scoring : RMSE\n",
    "from sklearn.metrics import make_scorer\n",
    "from sklearn.model_selection import cross_val_score\n",
    "scorer = make_scorer(mean_squared_error, greater_is_better = False)\n",
    "\n",
    "def my_rmse_cv(model, X, y):\n",
    "    rmse = np.sqrt(-cross_val_score(model, X, y, scoring = scorer, cv = 5))\n",
    "    return rmse\n",
    "\n",
    "def rms(y_true, y_pred):\n",
    "    return np.sqrt(mean_squared_error(y_true,y_pred))\n",
    "score_rms = make_scorer(rms, greater_is_better=False)"
   ]
  },
  {
   "cell_type": "markdown",
   "metadata": {},
   "source": [
    "Perform cross validation on 50% of the data, as they did in the Automatic Statistician report."
   ]
  },
  {
   "cell_type": "code",
   "execution_count": 15,
   "metadata": {},
   "outputs": [],
   "source": [
    "from sklearn.metrics.regression import r2_score, mean_squared_error, mean_absolute_error\n",
    "from math import sqrt\n",
    "from custom_rmse import rmse_cv\n",
    "\n",
    "score_rms = make_scorer(rmse_cv, greater_is_better=False)\n",
    "\n",
    "def get_results(ground_truth, prediction):\n",
    "    r2 = r2_score(ground_truth, prediction)\n",
    "    mse = mean_squared_error(ground_truth, prediction)\n",
    "    mae = mean_absolute_error(ground_truth, prediction)\n",
    "    rmse = sqrt(mean_squared_error(ground_truth, prediction))\n",
    "    diff_array = np.abs(np.subtract(ground_truth, prediction))\n",
    "    max_error = np.max(diff_array)\n",
    "    max_error_index = np.where(diff_array == max_error)[0][0] + 1\n",
    "    return r2, mse, mae, rmse, max_error, max_error_index\n",
    "\n",
    "def print_results(ground_truth, prediction):\n",
    "    r2, mse, mae, rmse, max_error, max_error_index = get_results(ground_truth, prediction)\n",
    "    allInformation = \"r2: \" + str(r2)[:6] + \" | mse: \" + str(mse)[:6] + \" | mae: \" + str(mae)[:6] + \" | rmse: \" + str(rmse)[:6] + \" | max_error: \" + str(max_error)[:6] + \" [idx: \" + str(max_error_index) + \"]\"\n",
    "    print(allInformation)"
   ]
  },
  {
   "cell_type": "markdown",
   "metadata": {},
   "source": [
    "## 2.2 Ensemble methods"
   ]
  },
  {
   "cell_type": "markdown",
   "metadata": {},
   "source": [
    "### 2.2.1 Gradient Boosting Method"
   ]
  },
  {
   "cell_type": "code",
   "execution_count": 32,
   "metadata": {},
   "outputs": [
    {
     "name": "stdout",
     "output_type": "stream",
     "text": [
      "Fitting 5 folds for each of 2700 candidates, totalling 13500 fits\n"
     ]
    },
    {
     "name": "stderr",
     "output_type": "stream",
     "text": [
      "[Parallel(n_jobs=-1)]: Using backend LokyBackend with 8 concurrent workers.\n",
      "[Parallel(n_jobs=-1)]: Done   2 tasks      | elapsed:    0.0s\n",
      "[Parallel(n_jobs=-1)]: Done  96 tasks      | elapsed:    4.0s\n",
      "[Parallel(n_jobs=-1)]: Done 216 tasks      | elapsed:    9.9s\n",
      "[Parallel(n_jobs=-1)]: Done 342 tasks      | elapsed:   14.9s\n",
      "[Parallel(n_jobs=-1)]: Done 504 tasks      | elapsed:   21.2s\n",
      "[Parallel(n_jobs=-1)]: Done 702 tasks      | elapsed:   29.1s\n",
      "[Parallel(n_jobs=-1)]: Done 936 tasks      | elapsed:   38.7s\n",
      "[Parallel(n_jobs=-1)]: Done 1206 tasks      | elapsed:   50.0s\n",
      "[Parallel(n_jobs=-1)]: Done 1512 tasks      | elapsed:  1.0min\n",
      "[Parallel(n_jobs=-1)]: Done 1854 tasks      | elapsed:  1.3min\n",
      "[Parallel(n_jobs=-1)]: Done 2232 tasks      | elapsed:  1.6min\n",
      "[Parallel(n_jobs=-1)]: Done 2646 tasks      | elapsed:  2.0min\n",
      "[Parallel(n_jobs=-1)]: Done 3096 tasks      | elapsed:  2.4min\n",
      "[Parallel(n_jobs=-1)]: Done 3582 tasks      | elapsed:  2.9min\n",
      "[Parallel(n_jobs=-1)]: Done 4104 tasks      | elapsed:  3.4min\n",
      "[Parallel(n_jobs=-1)]: Done 4662 tasks      | elapsed:  3.9min\n",
      "[Parallel(n_jobs=-1)]: Done 5256 tasks      | elapsed:  4.3min\n",
      "[Parallel(n_jobs=-1)]: Done 5886 tasks      | elapsed:  4.7min\n",
      "[Parallel(n_jobs=-1)]: Done 6552 tasks      | elapsed:  5.2min\n",
      "[Parallel(n_jobs=-1)]: Done 7254 tasks      | elapsed:  5.7min\n",
      "[Parallel(n_jobs=-1)]: Done 7992 tasks      | elapsed:  6.3min\n",
      "[Parallel(n_jobs=-1)]: Done 8766 tasks      | elapsed:  6.9min\n",
      "[Parallel(n_jobs=-1)]: Done 9576 tasks      | elapsed:  7.5min\n",
      "[Parallel(n_jobs=-1)]: Done 10422 tasks      | elapsed:  8.0min\n",
      "[Parallel(n_jobs=-1)]: Done 11304 tasks      | elapsed:  8.7min\n",
      "[Parallel(n_jobs=-1)]: Done 12222 tasks      | elapsed:  9.3min\n",
      "[Parallel(n_jobs=-1)]: Done 13176 tasks      | elapsed: 10.1min\n",
      "[Parallel(n_jobs=-1)]: Done 13500 out of 13500 | elapsed: 10.3min finished\n"
     ]
    },
    {
     "name": "stdout",
     "output_type": "stream",
     "text": [
      "RMSE on Training set : 3.729994093730794\n",
      "RMSE on Training set (base) : 3.7135856062017765\n",
      "RMSE on Test set : 3.6675672081307105\n",
      "RMSE on Test set (base) : 3.419901572052494\n"
     ]
    }
   ],
   "source": [
    "from sklearn.model_selection import GridSearchCV\n",
    "from sklearn.ensemble import GradientBoostingRegressor\n",
    "\n",
    "param_grid = {\n",
    "            'learning_rate': [0.02, 0.1, 0.2],\n",
    "            'n_estimators': [100, 250, 750, 900, 1500],\n",
    "            'min_samples_split': [2, 5, 9, 20, 30, 45],\n",
    "            'min_weight_fraction_leaf': [0, 0.25, 0.5],\n",
    "            'max_depth': [3, 4, 7, 9, None],\n",
    "            'min_impurity_decrease': [0, 1e-7]\n",
    "             }\n",
    "\n",
    "regressor = GradientBoostingRegressor()\n",
    "reg_gscv = GridSearchCV(regressor, param_grid, cv=5, scoring=score_rms, n_jobs=-1, verbose=5)\n",
    "reg_gscv.fit(X_train, y_train)\n",
    "regressor = GradientBoostingRegressor(**reg_gscv.best_params_)\n",
    "\n",
    "# Look at predictions on training and validation set\n",
    "print(\"RMSE on Training set :\", my_rmse_cv(regressor, X_train, y_train).mean())\n",
    "print(\"RMSE on Training set (base) :\", my_rmse_cv(regressor, X_train_base, y_train).mean())\n",
    "print(\"RMSE on Test set :\", my_rmse_cv(regressor, X_test, y_test).mean())\n",
    "print(\"RMSE on Test set (base) :\", my_rmse_cv(regressor, X_test_base, y_test).mean())"
   ]
  },
  {
   "cell_type": "code",
   "execution_count": 33,
   "metadata": {},
   "outputs": [
    {
     "name": "stdout",
     "output_type": "stream",
     "text": [
      "r2: -0.323 | mse: 13.891 | mae: 2.2606 | rmse: 3.7271 | max_error: 12.331 [idx: 123]\n"
     ]
    }
   ],
   "source": [
    "regressor.fit(X_train, y_train)\n",
    "test_prediction = regressor.predict(X_test)\n",
    "print_results(y_test, test_prediction)"
   ]
  },
  {
   "cell_type": "markdown",
   "metadata": {},
   "source": [
    "### 2.2.2 Random Forest"
   ]
  },
  {
   "cell_type": "code",
   "execution_count": 34,
   "metadata": {},
   "outputs": [
    {
     "name": "stdout",
     "output_type": "stream",
     "text": [
      "Fitting 5 folds for each of 900 candidates, totalling 4500 fits\n"
     ]
    },
    {
     "name": "stderr",
     "output_type": "stream",
     "text": [
      "[Parallel(n_jobs=-1)]: Using backend LokyBackend with 8 concurrent workers.\n",
      "[Parallel(n_jobs=-1)]: Done   2 tasks      | elapsed:    0.1s\n",
      "[Parallel(n_jobs=-1)]: Done  56 tasks      | elapsed:    9.2s\n",
      "[Parallel(n_jobs=-1)]: Done 146 tasks      | elapsed:   25.1s\n",
      "[Parallel(n_jobs=-1)]: Done 272 tasks      | elapsed:   47.5s\n",
      "[Parallel(n_jobs=-1)]: Done 434 tasks      | elapsed:  1.3min\n",
      "[Parallel(n_jobs=-1)]: Done 632 tasks      | elapsed:  1.8min\n",
      "[Parallel(n_jobs=-1)]: Done 866 tasks      | elapsed:  2.5min\n",
      "[Parallel(n_jobs=-1)]: Done 1136 tasks      | elapsed:  3.3min\n",
      "[Parallel(n_jobs=-1)]: Done 1442 tasks      | elapsed:  4.3min\n",
      "[Parallel(n_jobs=-1)]: Done 1784 tasks      | elapsed:  5.3min\n",
      "[Parallel(n_jobs=-1)]: Done 2162 tasks      | elapsed:  6.4min\n",
      "[Parallel(n_jobs=-1)]: Done 2576 tasks      | elapsed:  7.7min\n",
      "[Parallel(n_jobs=-1)]: Done 3026 tasks      | elapsed:  9.1min\n",
      "[Parallel(n_jobs=-1)]: Done 3512 tasks      | elapsed: 10.6min\n",
      "[Parallel(n_jobs=-1)]: Done 4034 tasks      | elapsed: 12.3min\n",
      "[Parallel(n_jobs=-1)]: Done 4500 out of 4500 | elapsed: 13.8min finished\n"
     ]
    },
    {
     "name": "stdout",
     "output_type": "stream",
     "text": [
      "RMSE on Training set : 3.2530930895356462\n",
      "RMSE on Training set (base) : 3.199889789264378\n",
      "RMSE on Test set : 3.216077350614453\n",
      "RMSE on Test set (base) : 3.173181292788525\n"
     ]
    }
   ],
   "source": [
    "from sklearn.model_selection import GridSearchCV\n",
    "from sklearn.ensemble import RandomForestRegressor\n",
    "\n",
    "param_grid = {\n",
    "            'n_estimators': [100, 250, 750, 900, 1500],\n",
    "            'min_samples_split': [2, 5, 9, 20, 30, 45],\n",
    "            'min_weight_fraction_leaf': [0, 0.25, 0.5],\n",
    "            'max_depth': [3, 4, 7, 9, None],\n",
    "            'min_impurity_decrease': [0, 1e-7]\n",
    "             }\n",
    "\n",
    "regressor = RandomForestRegressor()\n",
    "reg_gscv = GridSearchCV(regressor, param_grid, cv=5, scoring=score_rms, n_jobs=-1, verbose=5)\n",
    "reg_gscv.fit(X_train, y_train)\n",
    "regressor = RandomForestRegressor(**reg_gscv.best_params_)\n",
    "\n",
    "# Look at predictions on training and validation set\n",
    "print(\"RMSE on Training set :\", my_rmse_cv(regressor, X_train, y_train).mean())\n",
    "print(\"RMSE on Training set (base) :\", my_rmse_cv(regressor, X_train_base, y_train).mean())\n",
    "print(\"RMSE on Test set :\", my_rmse_cv(regressor, X_test, y_test).mean())\n",
    "print(\"RMSE on Test set (base) :\", my_rmse_cv(regressor, X_test_base, y_test).mean())"
   ]
  },
  {
   "cell_type": "code",
   "execution_count": 35,
   "metadata": {},
   "outputs": [
    {
     "name": "stdout",
     "output_type": "stream",
     "text": [
      "r2: 0.0270 | mse: 10.215 | mae: 2.0051 | rmse: 3.1961 | max_error: 11.868 [idx: 123]\n"
     ]
    }
   ],
   "source": [
    "regressor.fit(X_train, y_train)\n",
    "test_prediction = regressor.predict(X_test)\n",
    "print_results(y_test, test_prediction)"
   ]
  },
  {
   "cell_type": "markdown",
   "metadata": {},
   "source": [
    "## 2.2 Linear methods"
   ]
  },
  {
   "cell_type": "markdown",
   "metadata": {},
   "source": [
    "### 2.2.1 Lasso"
   ]
  },
  {
   "cell_type": "code",
   "execution_count": 36,
   "metadata": {},
   "outputs": [
    {
     "name": "stdout",
     "output_type": "stream",
     "text": [
      "RMSE on Training set : 3.1204470565540565\n",
      "RMSE on Training set (base) : 3.126343290808294\n",
      "RMSE on Test set : 3.0763035742738367\n",
      "RMSE on Test set (base) : 3.0679858647707614\n"
     ]
    }
   ],
   "source": [
    "from sklearn import linear_model\n",
    "from sklearn.model_selection import GridSearchCV\n",
    "\n",
    "param_grid = {'alpha': [0.05, 0.1, 0.2]}\n",
    "\n",
    "regressor = linear_model.Lasso()\n",
    "reg_gscv = GridSearchCV(regressor, param_grid, cv=5, scoring=score_rms, n_jobs=-1)\n",
    "reg_gscv.fit(X_train, y_train)\n",
    "regressor = linear_model.Lasso(**reg_gscv.best_params_)\n",
    "\n",
    "# Look at predictions on training and validation set\n",
    "print(\"RMSE on Training set :\", my_rmse_cv(regressor, X_train, y_train).mean())\n",
    "print(\"RMSE on Training set (base) :\", my_rmse_cv(regressor, X_train_base, y_train).mean())\n",
    "print(\"RMSE on Test set :\", my_rmse_cv(regressor, X_test, y_test).mean())\n",
    "print(\"RMSE on Test set (base) :\", my_rmse_cv(regressor, X_test_base, y_test).mean())"
   ]
  },
  {
   "cell_type": "code",
   "execution_count": 37,
   "metadata": {},
   "outputs": [
    {
     "name": "stdout",
     "output_type": "stream",
     "text": [
      "r2: 0.0875 | mse: 9.5803 | mae: 1.9839 | rmse: 3.0952 | max_error: 11.665 [idx: 12]\n"
     ]
    }
   ],
   "source": [
    "regressor.fit(X_train, y_train)\n",
    "test_prediction = regressor.predict(X_test)\n",
    "print_results(y_test, test_prediction)"
   ]
  },
  {
   "cell_type": "markdown",
   "metadata": {},
   "source": [
    "### 2.2.2 ElasticNet"
   ]
  },
  {
   "cell_type": "code",
   "execution_count": 38,
   "metadata": {},
   "outputs": [
    {
     "name": "stdout",
     "output_type": "stream",
     "text": [
      "RMSE on Training set : 3.1711754399963956\n",
      "RMSE on Training set (base) : 3.1510994443518694\n",
      "RMSE on Test set : 3.152658993879162\n",
      "RMSE on Test set (base) : 3.1013979088143113\n"
     ]
    }
   ],
   "source": [
    "from sklearn.linear_model import ElasticNet\n",
    "from sklearn.model_selection import GridSearchCV\n",
    "\n",
    "param_grid = {'l1_ratio': [0.3,0.5,0.7],\n",
    "              'alpha': [1.0, 2.0, 5.0],\n",
    "              'normalize': [True,False],\n",
    "              'max_iter': [2000]}\n",
    "\n",
    "regressor = ElasticNet()\n",
    "reg_gscv = GridSearchCV(regressor, param_grid, cv=5, scoring=score_rms, n_jobs=-1)\n",
    "reg_gscv.fit(X_train, y_train)\n",
    "regressor = ElasticNet(**reg_gscv.best_params_)\n",
    "\n",
    "# Look at predictions on training and validation set\n",
    "print(\"RMSE on Training set :\", my_rmse_cv(regressor, X_train, y_train).mean())\n",
    "print(\"RMSE on Training set (base) :\", my_rmse_cv(regressor, X_train_base, y_train).mean())\n",
    "print(\"RMSE on Test set :\", my_rmse_cv(regressor, X_test, y_test).mean())\n",
    "print(\"RMSE on Test set (base) :\", my_rmse_cv(regressor, X_test_base, y_test).mean())"
   ]
  },
  {
   "cell_type": "code",
   "execution_count": 39,
   "metadata": {},
   "outputs": [
    {
     "name": "stdout",
     "output_type": "stream",
     "text": [
      "r2: 0.0695 | mse: 9.7686 | mae: 2.0508 | rmse: 3.1254 | max_error: 11.237 [idx: 12]\n"
     ]
    }
   ],
   "source": [
    "regressor.fit(X_train, y_train)\n",
    "test_prediction = regressor.predict(X_test)\n",
    "print_results(y_test, test_prediction)"
   ]
  },
  {
   "cell_type": "markdown",
   "metadata": {},
   "source": [
    "### 2.2.3 Kernel Ridge"
   ]
  },
  {
   "cell_type": "code",
   "execution_count": 40,
   "metadata": {},
   "outputs": [
    {
     "name": "stdout",
     "output_type": "stream",
     "text": [
      "best params for KernelRidge(linear): {'kernel': 'linear', 'alpha': 0.5, 'gamma': 0.2}\n",
      "RMSE on Training set : 3.467500429098145\n",
      "RMSE on Training set (base) : 3.1901054413208354\n",
      "RMSE on Test set : 3.514687896156784\n",
      "RMSE on Test set (base) : 3.144123215964089\n",
      "\n",
      "\n",
      "best params for KernelRidge(rbf): {'kernel': 'rbf', 'alpha': 0.5, 'gamma': 2.0}\n",
      "RMSE on Training set : 3.4105810573966466\n",
      "RMSE on Training set (base) : 3.4280007266204344\n",
      "RMSE on Test set : 3.5484916117736134\n",
      "RMSE on Test set (base) : 3.5478328284359906\n",
      "\n",
      "\n",
      "best params for KernelRidge(poly): {'kernel': 'poly', 'degree': 2}\n",
      "RMSE on Training set : 3.158553601513946\n",
      "RMSE on Training set (base) : 3.203151703941561\n",
      "RMSE on Test set : 3.1349945921516613\n",
      "RMSE on Test set (base) : 3.2025776637807937\n",
      "\n",
      "\n",
      "best params for KernelRidge(sigmoid): {'kernel': 'sigmoid'}\n",
      "RMSE on Training set : 4.655847436091912\n",
      "RMSE on Training set (base) : 3.3178803274567117\n",
      "RMSE on Test set : 27.527218320273164\n",
      "RMSE on Test set (base) : 3.2163554055423673\n",
      "\n",
      "\n"
     ]
    }
   ],
   "source": [
    "from sklearn.kernel_ridge import KernelRidge\n",
    "from sklearn.model_selection import GridSearchCV\n",
    "import warnings\n",
    "warnings.filterwarnings(\"ignore\")\n",
    "\n",
    "possible_kernels = [\"linear\",\"rbf\",\"poly\",\"sigmoid\"]\n",
    "\n",
    "for k in possible_kernels:\n",
    "    param_grid = []\n",
    "    if k is not \"poly\" and k is not \"sigmoid\":\n",
    "        param_grid = {'kernel': [k],\n",
    "                      'alpha': [0.5, 1.0, 2.0, 5.0],\n",
    "                      'gamma': [0.2,0.5,1.0,2.0]}\n",
    "    elif k is \"poly\":\n",
    "         param_grid = {'kernel': [k],\n",
    "                      'degree': [2,3,4,5]}\n",
    "    else:\n",
    "        param_grid = {'kernel': [k]}\n",
    "\n",
    "    regressor = KernelRidge()\n",
    "    reg_gscv = GridSearchCV(regressor, param_grid, cv=5, scoring=score_rms, n_jobs=-1)\n",
    "    reg_gscv.fit(X_train, y_train)\n",
    "    print(\"best params for KernelRidge(\" + k + \"): \" + str(reg_gscv.best_params_))\n",
    "    regressor = KernelRidge(**reg_gscv.best_params_)\n",
    "    \n",
    "\n",
    "    # Look at predictions on training and validation set\n",
    "    print(\"RMSE on Training set :\", my_rmse_cv(regressor, X_train, y_train).mean())\n",
    "    print(\"RMSE on Training set (base) :\", my_rmse_cv(regressor, X_train_base, y_train).mean())\n",
    "    print(\"RMSE on Test set :\", my_rmse_cv(regressor, X_test, y_test).mean())\n",
    "    print(\"RMSE on Test set (base) :\", my_rmse_cv(regressor, X_test_base, y_test).mean())\n",
    "    print(\"\\n\")"
   ]
  },
  {
   "cell_type": "markdown",
   "metadata": {},
   "source": [
    "### 2.2.4 Support Vector Regression"
   ]
  },
  {
   "cell_type": "code",
   "execution_count": null,
   "metadata": {},
   "outputs": [],
   "source": [
    "from sklearn.svm import SVR\n",
    "from sklearn.model_selection import GridSearchCV\n",
    "import warnings\n",
    "warnings.filterwarnings(\"default\")\n",
    "\n",
    "param_grid = {'kernel': [\"linear\",\"poly\",\"rbf\",\"sigmoid\"],\n",
    "              'degree': [2,3,4,5],\n",
    "              'gamma': ['auto','scale'],\n",
    "              'C': [0.2,0.5,1.0,2.0]}\n",
    "\n",
    "regressor = SVR()\n",
    "reg_gscv = GridSearchCV(regressor, param_grid, cv=5, scoring=score_rms, n_jobs=-1)\n",
    "reg_gscv.fit(X_train, y_train)\n",
    "regressor = SVR(**reg_gscv.best_params_)\n",
    "print(\"best params: \" + str(reg_gscv.best_params_))\n",
    "\n",
    "reg_gscv_base = GridSearchCV(SVR(), param_grid, cv=5, scoring=score_rms, n_jobs=-1)\n",
    "reg_gscv_base.fit(X_train_base, y_train)\n",
    "regressor_base = SVR(**reg_gscv_base.best_params_)\n",
    "\n",
    "# Look at predictions on training and validation set\n",
    "print(\"RMSE on Training set :\",        my_rmse_cv(regressor,      X_train,      y_train).mean())\n",
    "print(\"RMSE on Training set (base) :\", my_rmse_cv(regressor_base, X_train_base, y_train).mean())\n",
    "print(\"RMSE on Test set :\",            my_rmse_cv(regressor,      X_test,       y_test).mean())\n",
    "print(\"RMSE on Test set (base) :\",     my_rmse_cv(regressor_base, X_test_base,  y_test).mean())"
   ]
  },
  {
   "cell_type": "code",
   "execution_count": null,
   "metadata": {},
   "outputs": [],
   "source": []
  }
 ],
 "metadata": {
  "kernelspec": {
   "display_name": "Python [conda root]",
   "language": "python",
   "name": "conda-root-py"
  },
  "language_info": {
   "codemirror_mode": {
    "name": "ipython",
    "version": 3
   },
   "file_extension": ".py",
   "mimetype": "text/x-python",
   "name": "python",
   "nbconvert_exporter": "python",
   "pygments_lexer": "ipython3",
   "version": "3.5.6"
  },
  "notify_time": "5",
  "toc": {
   "base_numbering": 1,
   "nav_menu": {},
   "number_sections": true,
   "sideBar": true,
   "skip_h1_title": false,
   "title_cell": "Table of Contents",
   "title_sidebar": "Contents",
   "toc_cell": false,
   "toc_position": {},
   "toc_section_display": true,
   "toc_window_display": false
  },
  "varInspector": {
   "cols": {
    "lenName": 16,
    "lenType": 16,
    "lenVar": 40
   },
   "kernels_config": {
    "python": {
     "delete_cmd_postfix": "",
     "delete_cmd_prefix": "del ",
     "library": "var_list.py",
     "varRefreshCmd": "print(var_dic_list())"
    },
    "r": {
     "delete_cmd_postfix": ") ",
     "delete_cmd_prefix": "rm(",
     "library": "var_list.r",
     "varRefreshCmd": "cat(var_dic_list()) "
    }
   },
   "oldHeight": 253.79999999999998,
   "position": {
    "height": "40px",
    "left": "1124px",
    "right": "20px",
    "top": "56px",
    "width": "389.4px"
   },
   "types_to_exclude": [
    "module",
    "function",
    "builtin_function_or_method",
    "instance",
    "_Feature"
   ],
   "varInspector_section_display": "none",
   "window_display": true
  }
 },
 "nbformat": 4,
 "nbformat_minor": 2
}
